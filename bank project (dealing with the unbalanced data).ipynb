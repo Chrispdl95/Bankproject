{
 "cells": [
  {
   "cell_type": "markdown",
   "id": "e6985f4d",
   "metadata": {},
   "source": [
    "This time  we ll do the same as bank project(1) but we ll try to handle the problem of unbalanced train set\n"
   ]
  },
  {
   "cell_type": "code",
   "execution_count": 1,
   "id": "26a7fae5",
   "metadata": {},
   "outputs": [
    {
     "name": "stdout",
     "output_type": "stream",
     "text": [
      "<class 'pandas.core.frame.DataFrame'>\n",
      "RangeIndex: 10716 entries, 0 to 10715\n",
      "Data columns (total 13 columns):\n",
      " #   Column                                          Non-Null Count  Dtype  \n",
      "---  ------                                          --------------  -----  \n",
      " 0   365* ( Β.Υ / Κοστ.Πωλ )                         10716 non-null  float64\n",
      " 1   Λειτ.Αποτ/Συν.Ενεργ. (ROA)                      10716 non-null  float64\n",
      " 2   ΧΡΗΜ.ΔΑΠΑΝΕΣ / ΠΩΛΗΣΕΙΣ                         10716 non-null  float64\n",
      " 3    ΠΡΑΓΜΑΤΙΚΗ ΡΕΥΣΤΟΤΗΤΑ :  (ΚΕ-ΑΠΟΘΕΜΑΤΑ) / Β.Υ  10716 non-null  float64\n",
      " 4   (ΑΠΑΙΤ.*365) / ΠΩΛ.                             10716 non-null  float64\n",
      " 5   Συν.Υποχρ/Συν.Ενεργ                             10716 non-null  float64\n",
      " 6   Διάρκεια Παραμονής Αποθεμάτων                   10716 non-null  float64\n",
      " 7   Λογαριθμος Προσωπικού                           10716 non-null  float64\n",
      " 8   ΕΝΔΕΙΞΗ ΕΞΑΓΩΓΩΝ                                10716 non-null  int64  \n",
      " 9   ΕΝΔΕΙΞΗ ΕΙΣΑΓΩΓΩΝ                               10716 non-null  int64  \n",
      " 10  ΕΝΔΕΙΞΗ ΑΝΤΙΠΡΟΣΩΠΕΙΩΝ                          10716 non-null  int64  \n",
      " 11  ΕΝΔΕΙΞΗ ΑΣΥΝΕΠΕΙΑΣ (=2) (ν+1)                   10716 non-null  int64  \n",
      " 12  ΕΤΟΣ                                            10716 non-null  int64  \n",
      "dtypes: float64(8), int64(5)\n",
      "memory usage: 1.1 MB\n",
      "None\n"
     ]
    }
   ],
   "source": [
    "import pandas as pd\n",
    "import numpy as np \n",
    "import scipy.optimize as opt \n",
    "import matplotlib.pyplot as plt \n",
    "from sklearn.metrics import accuracy_score, precision_score, recall_score, f1_score, confusion_matrix\n",
    "data = pd.read_excel('Dataset2Use_Assignment1.xlsx')\n",
    "data.sort_values(by=[\"ΕΝΔΕΙΞΗ ΑΣΥΝΕΠΕΙΑΣ (=2) (ν+1)\"],ascending=True ,inplace=True )\n",
    "data = data.reset_index(drop=True)\n",
    "print(data.info())\n",
    "x= data.iloc[:,:-2]\n",
    "y= data.iloc[:,-2]\n",
    "#print(y.head())\n",
    "y, levels = pd.factorize(y)\n"
   ]
  },
  {
   "cell_type": "code",
   "execution_count": 3,
   "id": "c178443c",
   "metadata": {},
   "outputs": [],
   "source": [
    "from sklearn.model_selection import train_test_split\n",
    "x_train, x_test, y_train, y_test = train_test_split(x, y, train_size=0.7,random_state=1)\n",
    "\n"
   ]
  },
  {
   "cell_type": "code",
   "execution_count": 4,
   "id": "a6f624a4",
   "metadata": {},
   "outputs": [
    {
     "name": "stdout",
     "output_type": "stream",
     "text": [
      "0    7326\n",
      "1     175\n",
      "dtype: int64\n",
      "num_of_healthy_needed=  525\n"
     ]
    }
   ],
   "source": [
    "count = pd.Series(y_train).value_counts()\n",
    "print(count)\n",
    "num_of_healthy_needed=count[1]*3\n",
    "#count_test_y = pd.Series(y_test).value_counts()\n",
    "#print(count_test_y)\n",
    "#print(count[1]/(count[2]+count[1]))\n",
    "#num_of_healthy_needed=count[1]*3\n",
    "print('num_of_healthy_needed= ',num_of_healthy_needed) "
   ]
  },
  {
   "cell_type": "markdown",
   "id": "645e1471",
   "metadata": {},
   "source": [
    "we delete random values from  train set so as to make the set balanced"
   ]
  },
  {
   "cell_type": "code",
   "execution_count": 5,
   "id": "df0fa63f",
   "metadata": {},
   "outputs": [
    {
     "name": "stdout",
     "output_type": "stream",
     "text": [
      "0      1\n",
      "1      1\n",
      "2      0\n",
      "3      1\n",
      "4      0\n",
      "      ..\n",
      "695    0\n",
      "696    1\n",
      "697    0\n",
      "698    0\n",
      "699    0\n",
      "Name: y, Length: 700, dtype: int64\n"
     ]
    }
   ],
   "source": [
    "x_train['y']= y_train\n",
    "x_train= x_train.sort_values(by=['y'],ascending=True)\n",
    "x_train=x_train.reset_index(drop= True)\n",
    "import random \n",
    "random.seed(1)\n",
    "delete =random.sample(range(count[0]), count[0]-num_of_healthy_needed)\n",
    "x_train= x_train.drop(delete)\n",
    "df_suffled= x_train.sample(frac=1, random_state=1).reset_index(drop=True)\n",
    "y_train= df_suffled.iloc[:,-1]\n",
    "x_train= df_suffled.iloc[:,:-1]\n",
    "\n",
    "print(y_train)"
   ]
  },
  {
   "cell_type": "markdown",
   "id": "cc75905b",
   "metadata": {},
   "source": [
    "we check again if the train set is balanced"
   ]
  },
  {
   "cell_type": "code",
   "execution_count": 6,
   "id": "237f9bda",
   "metadata": {},
   "outputs": [
    {
     "name": "stdout",
     "output_type": "stream",
     "text": [
      "0    525\n",
      "1    175\n",
      "Name: y, dtype: int64\n",
      "0    3142\n",
      "1      73\n",
      "dtype: int64\n"
     ]
    }
   ],
   "source": [
    "count1 = pd.Series(y_train).value_counts()\n",
    "print(count1)\n",
    "\n",
    "count2 = pd.Series(y_test).value_counts()\n",
    "print(count2)\n"
   ]
  },
  {
   "cell_type": "markdown",
   "id": "c9062ccd",
   "metadata": {},
   "source": [
    "# Min Max Scaling"
   ]
  },
  {
   "cell_type": "code",
   "execution_count": 7,
   "id": "3e786bcd",
   "metadata": {},
   "outputs": [],
   "source": [
    "\n",
    "from sklearn.preprocessing import MinMaxScaler\n",
    "scaler = MinMaxScaler()\n",
    "X_train = scaler.fit_transform(x_train)\n",
    "X_test = scaler.transform(x_test)\n"
   ]
  },
  {
   "cell_type": "code",
   "execution_count": 8,
   "id": "dc09a2f0",
   "metadata": {},
   "outputs": [
    {
     "name": "stdout",
     "output_type": "stream",
     "text": [
      "[[4.36058256e-01 5.90937481e-01 3.53048480e-01 ... 0.00000000e+00\n",
      "  0.00000000e+00 0.00000000e+00]\n",
      " [4.62135933e-01 5.46721262e-01 4.58636460e-01 ... 0.00000000e+00\n",
      "  1.00000000e+00 1.00000000e+00]\n",
      " [4.81198462e-01 5.37653501e-01 1.29000000e-04 ... 0.00000000e+00\n",
      "  0.00000000e+00 0.00000000e+00]\n",
      " ...\n",
      " [3.31347858e-01 5.49308327e-01 3.79128265e-01 ... 1.00000000e+00\n",
      "  1.00000000e+00 1.00000000e+00]\n",
      " [1.45716746e-01 6.45570850e-01 8.21840150e-02 ... 0.00000000e+00\n",
      "  0.00000000e+00 0.00000000e+00]\n",
      " [8.93072606e-01 6.04690285e-01 2.45587720e-01 ... 0.00000000e+00\n",
      "  0.00000000e+00 0.00000000e+00]]\n"
     ]
    }
   ],
   "source": [
    "print(X_train)"
   ]
  },
  {
   "cell_type": "markdown",
   "id": "41fc1a5e",
   "metadata": {},
   "source": [
    "# LogisticRegression"
   ]
  },
  {
   "cell_type": "code",
   "execution_count": 9,
   "id": "9872ab92",
   "metadata": {},
   "outputs": [
    {
     "name": "stdout",
     "output_type": "stream",
     "text": [
      "confusion_matrix=  \n",
      " [[3009  133]\n",
      " [  50   23]]\n",
      "TN= 3009\n",
      "FP= 133\n",
      "FN= 50\n",
      "TP= 23\n",
      "acc_test=  0.9430793157076205\n",
      "acc_train=  0.7971428571428572\n",
      "rec_test=  0.6363693834308485\n",
      "rec_train=  0.6419047619047619\n",
      "f1_test=  0.5856809966557022\n",
      "f1_train=  0.6626345728288464\n",
      "precision_train=  0.7545839760988851\n",
      "precision_test=  0.5655453432913387\n"
     ]
    }
   ],
   "source": [
    "from sklearn.linear_model import LogisticRegression\n",
    "logreg = LogisticRegression(max_iter=1000)\n",
    "logreg.fit(X_train, y_train) #fit the model using the training data\n",
    "#now check for both train and test data, how well the model learned the patterns\n",
    "#y_pred_train = logreg.predict(X_train)\n",
    "y_pred_test= logreg.predict(X_test)\n",
    "y_pred_train= logreg.predict(X_train)\n",
    "acc_train = accuracy_score(y_train, y_pred_train)\n",
    "acc_test = accuracy_score(y_test, y_pred_test)\n",
    "pre_train = precision_score(y_train, y_pred_train, average='macro')\n",
    "pre_test = precision_score(y_test, y_pred_test, average='macro')\n",
    "rec_train = recall_score(y_train, y_pred_train, average='macro')\n",
    "rec_test = recall_score(y_test, y_pred_test, average='macro')\n",
    "f1_train = f1_score(y_train, y_pred_train, average='macro')\n",
    "f1_test = f1_score(y_test, y_pred_test, average='macro')\n",
    "print('confusion_matrix= ','\\n' ,+confusion_matrix(y_test,y_pred_test))\n",
    "TN=(confusion_matrix(y_test,y_pred_test)[0,0])\n",
    "print(\"TN=\",TN)\n",
    "FP= (confusion_matrix(y_test,y_pred_test)[0,1])\n",
    "print('FP=',FP)\n",
    "FN= (confusion_matrix(y_test,y_pred_test)[1,0])\n",
    "print('FN=',FN)\n",
    "TP= (confusion_matrix(y_test,y_pred_test)[1,1])\n",
    "print('TP=',TP)\n",
    "print('acc_test= ',acc_test)\n",
    "print('acc_train= ',acc_train)\n",
    "print('rec_test= ',rec_test)\n",
    "print('rec_train= ',rec_train)\n",
    "print('f1_test= ',f1_test)\n",
    "print('f1_train= ',f1_train)\n",
    "print('precision_train= ',pre_train)\n",
    "print('precision_test= ',pre_test)"
   ]
  },
  {
   "cell_type": "markdown",
   "id": "9d7ad668",
   "metadata": {},
   "source": [
    "# DecisionTreeClassifier"
   ]
  },
  {
   "cell_type": "code",
   "execution_count": 10,
   "id": "c2eaad0a",
   "metadata": {},
   "outputs": [
    {
     "name": "stdout",
     "output_type": "stream",
     "text": [
      "[[2754  388]\n",
      " [  39   34]]\n",
      "TN= 2754\n",
      "FP= 388\n",
      "FN= 39\n",
      "TP= 34\n",
      "acc_test=  0.8671850699844479\n",
      "acc_train=  0.9057142857142857\n",
      "rec_test=  0.6711326002982133\n",
      "rec_train=  0.8476190476190476\n",
      "f1_test=  0.5327138274063294\n",
      "f1_train=  0.8669032830523514\n",
      "precision_train=  0.892878670455524\n",
      "precision_test=  0.5333026201251266\n"
     ]
    }
   ],
   "source": [
    "from sklearn.tree import DecisionTreeClassifier\n",
    "clf = DecisionTreeClassifier(max_depth= 6)\n",
    "clf.fit(X_train, y_train) #fit the model using the training data\n",
    "#now check for both train and test data, how well the model learned the patterns\n",
    "y_pred_train = clf.predict(X_train)\n",
    "y_pred_test = clf.predict(X_test)\n",
    "acc_train = accuracy_score(y_train, y_pred_train)\n",
    "acc_test = accuracy_score(y_test, y_pred_test)\n",
    "pre_train = precision_score(y_train, y_pred_train, average='macro')\n",
    "pre_test = precision_score(y_test, y_pred_test, average='macro')\n",
    "rec_train = recall_score(y_train, y_pred_train, average='macro')\n",
    "rec_test = recall_score(y_test, y_pred_test, average='macro')\n",
    "f1_train = f1_score(y_train, y_pred_train, average='macro')\n",
    "f1_test = f1_score(y_test, y_pred_test, average='macro')\n",
    "print(confusion_matrix(y_test,y_pred_test))\n",
    "TN=(confusion_matrix(y_test,y_pred_test)[0,0])\n",
    "print(\"TN=\",TN)\n",
    "FP= (confusion_matrix(y_test,y_pred_test)[0,1])\n",
    "print('FP=',FP)\n",
    "FN= (confusion_matrix(y_test,y_pred_test)[1,0])\n",
    "print('FN=',FN)\n",
    "TP= (confusion_matrix(y_test,y_pred_test)[1,1])\n",
    "print('TP=',TP)\n",
    "print('acc_test= ',acc_test)\n",
    "print('acc_train= ',acc_train)\n",
    "print('rec_test= ',rec_test)\n",
    "print('rec_train= ',rec_train)\n",
    "print('f1_test= ',f1_test)\n",
    "print('f1_train= ',f1_train)\n",
    "print('precision_train= ',pre_train)\n",
    "print('precision_test= ',pre_test)\n"
   ]
  },
  {
   "cell_type": "markdown",
   "id": "5f68a4a7",
   "metadata": {},
   "source": [
    "# KNeighborsClassifier"
   ]
  },
  {
   "cell_type": "code",
   "execution_count": 11,
   "id": "f4ac76ba",
   "metadata": {},
   "outputs": [
    {
     "name": "stdout",
     "output_type": "stream",
     "text": [
      "[[2889  253]\n",
      " [  44   29]]\n",
      "TN= 2889\n",
      "FP= 253\n",
      "FN= 44\n",
      "TP= 29\n",
      "acc_test=  0.9076205287713841\n",
      "acc_train=  0.8328571428571429\n",
      "rec_test=  0.6583691567189557\n",
      "rec_train=  0.7228571428571429\n",
      "f1_test=  0.5572456964006259\n",
      "f1_train=  0.7474957684730431\n",
      "precision_train=  0.7981390878909662\n",
      "precision_test=  0.5439175873467246\n"
     ]
    }
   ],
   "source": [
    "from sklearn.neighbors import KNeighborsClassifier\n",
    "knn = KNeighborsClassifier(n_neighbors=7)\n",
    "knn.fit(X_train, y_train) #fit the model using the training data\n",
    "#now check for both train and test data, how well the model learned the patterns\n",
    "y_pred_train = knn.predict(X_train)\n",
    "y_pred_test = knn.predict(X_test)\n",
    "acc_train = accuracy_score(y_train, y_pred_train)\n",
    "acc_test = accuracy_score(y_test, y_pred_test)\n",
    "pre_train = precision_score(y_train, y_pred_train, average='macro')\n",
    "pre_test = precision_score(y_test, y_pred_test, average='macro')\n",
    "rec_train = recall_score(y_train, y_pred_train, average='macro')\n",
    "rec_test = recall_score(y_test, y_pred_test, average='macro')\n",
    "f1_train = f1_score(y_train, y_pred_train, average='macro')\n",
    "f1_test = f1_score(y_test, y_pred_test, average='macro')\n",
    "print(confusion_matrix(y_test,y_pred_test))\n",
    "TN=(confusion_matrix(y_test,y_pred_test)[0,0])\n",
    "print(\"TN=\",TN)\n",
    "FP= (confusion_matrix(y_test,y_pred_test)[0,1])\n",
    "print('FP=',FP)\n",
    "FN= (confusion_matrix(y_test,y_pred_test)[1,0])\n",
    "print('FN=',FN)\n",
    "TP= (confusion_matrix(y_test,y_pred_test)[1,1])\n",
    "print('TP=',TP)\n",
    "print('acc_test= ',acc_test)\n",
    "print('acc_train= ',acc_train)\n",
    "print('rec_test= ',rec_test)\n",
    "print('rec_train= ',rec_train)\n",
    "print('f1_test= ',f1_test)\n",
    "print('f1_train= ',f1_train)\n",
    "print('precision_train= ',pre_train)\n",
    "print('precision_test= ',pre_test)"
   ]
  },
  {
   "cell_type": "markdown",
   "id": "010301d1",
   "metadata": {},
   "source": [
    "# Linear Discriminant Analysis\n"
   ]
  },
  {
   "cell_type": "code",
   "execution_count": 12,
   "id": "3d66500e",
   "metadata": {},
   "outputs": [
    {
     "name": "stdout",
     "output_type": "stream",
     "text": [
      "[[2972  170]\n",
      " [  49   24]]\n",
      "TN= 2972\n",
      "FP= 170\n",
      "FN= 49\n",
      "TP= 24\n",
      "acc_test=  0.9318818040435459\n",
      "acc_train=  0.8042857142857143\n",
      "rec_test=  0.637330729053129\n",
      "rec_train=  0.66\n",
      "f1_test=  0.5721203193395892\n",
      "f1_train=  0.6829867343666842\n",
      "precision_train=  0.7628003432494279\n",
      "precision_test=  0.553745772718121\n"
     ]
    }
   ],
   "source": [
    "from sklearn.discriminant_analysis import LinearDiscriminantAnalysis\n",
    "lda = LinearDiscriminantAnalysis()\n",
    "lda.fit(X_train, y_train) #fit the model using the training data\n",
    "#now check for both train and test data, how well the model learned the patterns\n",
    "y_pred_train = lda.predict(X_train)\n",
    "y_pred_test = lda.predict(X_test)\n",
    "acc_train = accuracy_score(y_train, y_pred_train)\n",
    "acc_test = accuracy_score(y_test, y_pred_test)\n",
    "pre_train = precision_score(y_train, y_pred_train, average='macro')\n",
    "pre_test = precision_score(y_test, y_pred_test, average='macro')\n",
    "rec_train = recall_score(y_train, y_pred_train, average='macro')\n",
    "rec_test = recall_score(y_test, y_pred_test, average='macro')\n",
    "f1_train = f1_score(y_train, y_pred_train, average='macro')\n",
    "f1_test = f1_score(y_test, y_pred_test, average='macro')\n",
    "print(confusion_matrix(y_test,y_pred_test))\n",
    "TN=(confusion_matrix(y_test,y_pred_test)[0,0])\n",
    "print(\"TN=\",TN)\n",
    "FP= (confusion_matrix(y_test,y_pred_test)[0,1])\n",
    "print('FP=',FP)\n",
    "FN= (confusion_matrix(y_test,y_pred_test)[1,0])\n",
    "print('FN=',FN)\n",
    "TP= (confusion_matrix(y_test,y_pred_test)[1,1])\n",
    "print('TP=',TP)\n",
    "print('acc_test= ',acc_test)\n",
    "print('acc_train= ',acc_train)\n",
    "print('rec_test= ',rec_test)\n",
    "print('rec_train= ',rec_train)\n",
    "print('f1_test= ',f1_test)\n",
    "print('f1_train= ',f1_train)\n",
    "print('precision_train= ',pre_train)\n",
    "print('precision_test= ',pre_test)"
   ]
  },
  {
   "cell_type": "markdown",
   "id": "691874ea",
   "metadata": {},
   "source": [
    "# NAIVE BAYES"
   ]
  },
  {
   "cell_type": "code",
   "execution_count": 13,
   "id": "c60d8c85",
   "metadata": {},
   "outputs": [
    {
     "name": "stdout",
     "output_type": "stream",
     "text": [
      "[[2774  368]\n",
      " [  33   40]]\n",
      "TN= 2774\n",
      "FP= 368\n",
      "FN= 33\n",
      "TP= 40\n",
      "acc_test=  0.8752721617418352\n",
      "acc_train=  0.7842857142857143\n",
      "rec_test=  0.7154111768963142\n",
      "rec_train=  0.6980952380952381\n",
      "f1_test=  0.5494569397746403\n",
      "f1_train=  0.703734846892299\n",
      "precision_train=  0.7106481481481481\n",
      "precision_test=  0.5431414461046264\n"
     ]
    }
   ],
   "source": [
    "from sklearn.naive_bayes import GaussianNB\n",
    "gnb = GaussianNB()\n",
    "gnb.fit(X_train, y_train) #fit the model using the training data\n",
    "# now check for both train and test data, how well the model learned thepatterns\n",
    "y_pred_train = gnb.predict(X_train)\n",
    "y_pred_test = gnb.predict(X_test)\n",
    "#print('attributes: ', svc.support_vectors_)\n",
    "acc_train = accuracy_score(y_train, y_pred_train)\n",
    "acc_test = accuracy_score(y_test, y_pred_test)\n",
    "pre_train = precision_score(y_train, y_pred_train, average='macro')\n",
    "pre_test = precision_score(y_test, y_pred_test, average='macro')\n",
    "rec_train = recall_score(y_train, y_pred_train, average='macro')\n",
    "rec_test = recall_score(y_test, y_pred_test, average='macro')\n",
    "f1_train = f1_score(y_train, y_pred_train, average='macro')\n",
    "f1_test = f1_score(y_test, y_pred_test, average='macro')\n",
    "print(confusion_matrix(y_test,y_pred_test))\n",
    "TN=(confusion_matrix(y_test,y_pred_test)[0,0])\n",
    "print(\"TN=\",TN)\n",
    "FP= (confusion_matrix(y_test,y_pred_test)[0,1])\n",
    "print('FP=',FP)\n",
    "FN= (confusion_matrix(y_test,y_pred_test)[1,0])\n",
    "print('FN=',FN)\n",
    "TP= (confusion_matrix(y_test,y_pred_test)[1,1])\n",
    "print('TP=',TP)\n",
    "print('acc_test= ',acc_test)\n",
    "print('acc_train= ',acc_train)\n",
    "print('rec_test= ',rec_test)\n",
    "print('rec_train= ',rec_train)\n",
    "print('f1_test= ',f1_test)\n",
    "print('f1_train= ',f1_train)\n",
    "print('precision_train= ',pre_train)\n",
    "print('precision_test= ',pre_test)"
   ]
  },
  {
   "cell_type": "markdown",
   "id": "afca4b1c",
   "metadata": {},
   "source": [
    "## Support Vector Classifier"
   ]
  },
  {
   "cell_type": "code",
   "execution_count": 14,
   "id": "c0875b39",
   "metadata": {},
   "outputs": [
    {
     "name": "stdout",
     "output_type": "stream",
     "text": [
      "[[2993  149]\n",
      " [  52   21]]\n",
      "TN= 2993\n",
      "FP= 149\n",
      "FN= 52\n",
      "TP= 21\n",
      "acc_test=  0.9374805598755832\n",
      "acc_train=  0.8342857142857143\n",
      "rec_test=  0.6201246043441486\n",
      "rec_train=  0.6895238095238095\n",
      "f1_test=  0.5701760162187941\n",
      "f1_train=  0.7227381993006994\n",
      "precision_train=  0.847284548953908\n",
      "precision_test=  0.5532261180334203\n"
     ]
    }
   ],
   "source": [
    "#import SVC and create an SVC object\n",
    "from sklearn.svm import SVC\n",
    "svc = SVC()\n",
    "svc.fit(X_train, y_train) #fit the model using the training data\n",
    "# now check for both train and test data, how well the model learned the patterns\n",
    "y_pred_train = svc.predict(X_train)\n",
    "y_pred_test = svc.predict(X_test)\n",
    "#print('attributes: ', svc.support_vectors_)\n",
    "acc_train = accuracy_score(y_train, y_pred_train)\n",
    "acc_test = accuracy_score(y_test, y_pred_test)\n",
    "pre_train = precision_score(y_train, y_pred_train, average='macro')\n",
    "pre_test = precision_score(y_test, y_pred_test, average='macro')\n",
    "rec_train = recall_score(y_train, y_pred_train, average='macro')\n",
    "rec_test = recall_score(y_test, y_pred_test, average='macro')\n",
    "f1_train = f1_score(y_train, y_pred_train, average='macro')\n",
    "f1_test = f1_score(y_test, y_pred_test, average='macro')\n",
    "print(confusion_matrix(y_test,y_pred_test))\n",
    "TN=(confusion_matrix(y_test,y_pred_test)[0,0])\n",
    "print(\"TN=\",TN)\n",
    "FP= (confusion_matrix(y_test,y_pred_test)[0,1])\n",
    "print('FP=',FP)\n",
    "FN= (confusion_matrix(y_test,y_pred_test)[1,0])\n",
    "print('FN=',FN)\n",
    "TP= (confusion_matrix(y_test,y_pred_test)[1,1])\n",
    "print('TP=',TP)\n",
    "print('acc_test= ',acc_test)\n",
    "print('acc_train= ',acc_train)\n",
    "print('rec_test= ',rec_test)\n",
    "print('rec_train= ',rec_train)\n",
    "print('f1_test= ',f1_test)\n",
    "print('f1_train= ',f1_train)\n",
    "print('precision_train= ',pre_train)\n",
    "print('precision_test= ',pre_test)"
   ]
  },
  {
   "cell_type": "markdown",
   "id": "421c6577",
   "metadata": {},
   "source": [
    "## NEURAL NETWORK"
   ]
  },
  {
   "cell_type": "code",
   "execution_count": 15,
   "id": "acbb27be",
   "metadata": {},
   "outputs": [
    {
     "name": "stdout",
     "output_type": "stream",
     "text": [
      "Epoch 1/100\n",
      "22/22 [==============================] - 0s 2ms/step - loss: 0.5933 - accuracy: 0.7100\n",
      "Epoch 2/100\n",
      "22/22 [==============================] - 0s 2ms/step - loss: 0.5034 - accuracy: 0.7500\n",
      "Epoch 3/100\n",
      "22/22 [==============================] - 0s 1ms/step - loss: 0.4678 - accuracy: 0.7643\n",
      "Epoch 4/100\n",
      "22/22 [==============================] - 0s 2ms/step - loss: 0.4416 - accuracy: 0.7800\n",
      "Epoch 5/100\n",
      "22/22 [==============================] - 0s 2ms/step - loss: 0.4284 - accuracy: 0.7814\n",
      "Epoch 6/100\n",
      "22/22 [==============================] - 0s 2ms/step - loss: 0.4196 - accuracy: 0.7900\n",
      "Epoch 7/100\n",
      "22/22 [==============================] - 0s 1ms/step - loss: 0.4133 - accuracy: 0.8014\n",
      "Epoch 8/100\n",
      "22/22 [==============================] - 0s 2ms/step - loss: 0.4202 - accuracy: 0.7986\n",
      "Epoch 9/100\n",
      "22/22 [==============================] - 0s 2ms/step - loss: 0.4138 - accuracy: 0.8071\n",
      "Epoch 10/100\n",
      "22/22 [==============================] - 0s 1ms/step - loss: 0.4022 - accuracy: 0.8129\n",
      "Epoch 11/100\n",
      "22/22 [==============================] - 0s 2ms/step - loss: 0.4018 - accuracy: 0.8057\n",
      "Epoch 12/100\n",
      "22/22 [==============================] - 0s 2ms/step - loss: 0.4002 - accuracy: 0.8143\n",
      "Epoch 13/100\n",
      "22/22 [==============================] - 0s 2ms/step - loss: 0.3953 - accuracy: 0.8200\n",
      "Epoch 14/100\n",
      "22/22 [==============================] - 0s 1ms/step - loss: 0.4008 - accuracy: 0.8071\n",
      "Epoch 15/100\n",
      "22/22 [==============================] - 0s 1ms/step - loss: 0.3906 - accuracy: 0.8157\n",
      "Epoch 16/100\n",
      "22/22 [==============================] - 0s 1ms/step - loss: 0.3856 - accuracy: 0.8200\n",
      "Epoch 17/100\n",
      "22/22 [==============================] - 0s 2ms/step - loss: 0.3838 - accuracy: 0.8229\n",
      "Epoch 18/100\n",
      "22/22 [==============================] - 0s 1ms/step - loss: 0.3822 - accuracy: 0.8286\n",
      "Epoch 19/100\n",
      "22/22 [==============================] - 0s 2ms/step - loss: 0.3824 - accuracy: 0.8271\n",
      "Epoch 20/100\n",
      "22/22 [==============================] - 0s 2ms/step - loss: 0.3843 - accuracy: 0.8186\n",
      "Epoch 21/100\n",
      "22/22 [==============================] - 0s 2ms/step - loss: 0.3781 - accuracy: 0.8343\n",
      "Epoch 22/100\n",
      "22/22 [==============================] - 0s 2ms/step - loss: 0.3729 - accuracy: 0.8400\n",
      "Epoch 23/100\n",
      "22/22 [==============================] - 0s 2ms/step - loss: 0.3801 - accuracy: 0.8300\n",
      "Epoch 24/100\n",
      "22/22 [==============================] - 0s 2ms/step - loss: 0.3694 - accuracy: 0.8400\n",
      "Epoch 25/100\n",
      "22/22 [==============================] - 0s 2ms/step - loss: 0.3634 - accuracy: 0.8371\n",
      "Epoch 26/100\n",
      "22/22 [==============================] - 0s 2ms/step - loss: 0.3595 - accuracy: 0.8443\n",
      "Epoch 27/100\n",
      "22/22 [==============================] - 0s 2ms/step - loss: 0.3573 - accuracy: 0.8443\n",
      "Epoch 28/100\n",
      "22/22 [==============================] - 0s 2ms/step - loss: 0.3607 - accuracy: 0.8486\n",
      "Epoch 29/100\n",
      "22/22 [==============================] - 0s 2ms/step - loss: 0.3539 - accuracy: 0.8500\n",
      "Epoch 30/100\n",
      "22/22 [==============================] - 0s 2ms/step - loss: 0.3453 - accuracy: 0.8457\n",
      "Epoch 31/100\n",
      "22/22 [==============================] - 0s 2ms/step - loss: 0.3513 - accuracy: 0.8400\n",
      "Epoch 32/100\n",
      "22/22 [==============================] - 0s 2ms/step - loss: 0.3488 - accuracy: 0.8400\n",
      "Epoch 33/100\n",
      "22/22 [==============================] - 0s 1ms/step - loss: 0.3575 - accuracy: 0.8243\n",
      "Epoch 34/100\n",
      "22/22 [==============================] - 0s 2ms/step - loss: 0.3374 - accuracy: 0.8486\n",
      "Epoch 35/100\n",
      "22/22 [==============================] - 0s 2ms/step - loss: 0.3422 - accuracy: 0.8471\n",
      "Epoch 36/100\n",
      "22/22 [==============================] - 0s 2ms/step - loss: 0.3295 - accuracy: 0.8543\n",
      "Epoch 37/100\n",
      "22/22 [==============================] - 0s 2ms/step - loss: 0.3319 - accuracy: 0.8514\n",
      "Epoch 38/100\n",
      "22/22 [==============================] - 0s 2ms/step - loss: 0.3251 - accuracy: 0.8557\n",
      "Epoch 39/100\n",
      "22/22 [==============================] - 0s 2ms/step - loss: 0.3241 - accuracy: 0.8557\n",
      "Epoch 40/100\n",
      "22/22 [==============================] - 0s 2ms/step - loss: 0.3187 - accuracy: 0.8700\n",
      "Epoch 41/100\n",
      "22/22 [==============================] - 0s 2ms/step - loss: 0.3257 - accuracy: 0.8514\n",
      "Epoch 42/100\n",
      "22/22 [==============================] - 0s 2ms/step - loss: 0.3220 - accuracy: 0.8543\n",
      "Epoch 43/100\n",
      "22/22 [==============================] - 0s 2ms/step - loss: 0.3178 - accuracy: 0.8643\n",
      "Epoch 44/100\n",
      "22/22 [==============================] - 0s 2ms/step - loss: 0.3208 - accuracy: 0.8571\n",
      "Epoch 45/100\n",
      "22/22 [==============================] - 0s 2ms/step - loss: 0.3088 - accuracy: 0.8757\n",
      "Epoch 46/100\n",
      "22/22 [==============================] - 0s 2ms/step - loss: 0.3106 - accuracy: 0.8543\n",
      "Epoch 47/100\n",
      "22/22 [==============================] - 0s 2ms/step - loss: 0.3029 - accuracy: 0.8714\n",
      "Epoch 48/100\n",
      "22/22 [==============================] - 0s 2ms/step - loss: 0.3039 - accuracy: 0.8629\n",
      "Epoch 49/100\n",
      "22/22 [==============================] - 0s 2ms/step - loss: 0.2921 - accuracy: 0.8786\n",
      "Epoch 50/100\n",
      "22/22 [==============================] - 0s 1ms/step - loss: 0.2966 - accuracy: 0.8800\n",
      "Epoch 51/100\n",
      "22/22 [==============================] - 0s 1ms/step - loss: 0.2977 - accuracy: 0.8671\n",
      "Epoch 52/100\n",
      "22/22 [==============================] - 0s 2ms/step - loss: 0.2968 - accuracy: 0.8643\n",
      "Epoch 53/100\n",
      "22/22 [==============================] - 0s 2ms/step - loss: 0.2826 - accuracy: 0.8814\n",
      "Epoch 54/100\n",
      "22/22 [==============================] - 0s 1ms/step - loss: 0.2788 - accuracy: 0.8900\n",
      "Epoch 55/100\n",
      "22/22 [==============================] - 0s 1ms/step - loss: 0.2891 - accuracy: 0.8729\n",
      "Epoch 56/100\n",
      "22/22 [==============================] - 0s 1ms/step - loss: 0.3045 - accuracy: 0.8500\n",
      "Epoch 57/100\n",
      "22/22 [==============================] - 0s 1ms/step - loss: 0.2728 - accuracy: 0.8857\n",
      "Epoch 58/100\n",
      "22/22 [==============================] - 0s 1ms/step - loss: 0.2657 - accuracy: 0.8957\n",
      "Epoch 59/100\n",
      "22/22 [==============================] - 0s 1ms/step - loss: 0.2631 - accuracy: 0.8943\n",
      "Epoch 60/100\n",
      "22/22 [==============================] - 0s 2ms/step - loss: 0.2604 - accuracy: 0.8957\n",
      "Epoch 61/100\n",
      "22/22 [==============================] - 0s 1ms/step - loss: 0.2834 - accuracy: 0.8857\n",
      "Epoch 62/100\n",
      "22/22 [==============================] - 0s 2ms/step - loss: 0.2955 - accuracy: 0.8629\n",
      "Epoch 63/100\n",
      "22/22 [==============================] - 0s 2ms/step - loss: 0.2605 - accuracy: 0.8829\n",
      "Epoch 64/100\n",
      "22/22 [==============================] - 0s 2ms/step - loss: 0.2529 - accuracy: 0.8986\n",
      "Epoch 65/100\n",
      "22/22 [==============================] - 0s 1ms/step - loss: 0.2487 - accuracy: 0.8929\n",
      "Epoch 66/100\n",
      "22/22 [==============================] - 0s 1ms/step - loss: 0.2461 - accuracy: 0.8986\n",
      "Epoch 67/100\n",
      "22/22 [==============================] - 0s 1ms/step - loss: 0.2424 - accuracy: 0.8971\n",
      "Epoch 68/100\n",
      "22/22 [==============================] - 0s 1ms/step - loss: 0.2474 - accuracy: 0.8871\n",
      "Epoch 69/100\n",
      "22/22 [==============================] - 0s 2ms/step - loss: 0.2493 - accuracy: 0.8943\n",
      "Epoch 70/100\n",
      "22/22 [==============================] - 0s 2ms/step - loss: 0.2388 - accuracy: 0.8986\n",
      "Epoch 71/100\n",
      "22/22 [==============================] - 0s 2ms/step - loss: 0.2389 - accuracy: 0.8971\n",
      "Epoch 72/100\n",
      "22/22 [==============================] - 0s 2ms/step - loss: 0.2411 - accuracy: 0.8929\n",
      "Epoch 73/100\n",
      "22/22 [==============================] - 0s 1ms/step - loss: 0.2471 - accuracy: 0.8943\n",
      "Epoch 74/100\n",
      "22/22 [==============================] - 0s 2ms/step - loss: 0.2381 - accuracy: 0.8986\n",
      "Epoch 75/100\n",
      "22/22 [==============================] - 0s 2ms/step - loss: 0.2376 - accuracy: 0.9014\n",
      "Epoch 76/100\n",
      "22/22 [==============================] - 0s 2ms/step - loss: 0.2237 - accuracy: 0.9086\n",
      "Epoch 77/100\n",
      "22/22 [==============================] - 0s 1ms/step - loss: 0.2231 - accuracy: 0.9057\n",
      "Epoch 78/100\n",
      "22/22 [==============================] - 0s 1ms/step - loss: 0.2178 - accuracy: 0.9071\n",
      "Epoch 79/100\n",
      "22/22 [==============================] - 0s 2ms/step - loss: 0.2164 - accuracy: 0.9086\n",
      "Epoch 80/100\n",
      "22/22 [==============================] - 0s 2ms/step - loss: 0.2133 - accuracy: 0.9129\n",
      "Epoch 81/100\n",
      "22/22 [==============================] - 0s 2ms/step - loss: 0.2078 - accuracy: 0.9100\n",
      "Epoch 82/100\n",
      "22/22 [==============================] - 0s 2ms/step - loss: 0.2198 - accuracy: 0.9057\n",
      "Epoch 83/100\n"
     ]
    },
    {
     "name": "stdout",
     "output_type": "stream",
     "text": [
      "22/22 [==============================] - 0s 1ms/step - loss: 0.2266 - accuracy: 0.8986\n",
      "Epoch 84/100\n",
      "22/22 [==============================] - 0s 1ms/step - loss: 0.2025 - accuracy: 0.9200\n",
      "Epoch 85/100\n",
      "22/22 [==============================] - 0s 2ms/step - loss: 0.2095 - accuracy: 0.9100\n",
      "Epoch 86/100\n",
      "22/22 [==============================] - 0s 1ms/step - loss: 0.1981 - accuracy: 0.9186\n",
      "Epoch 87/100\n",
      "22/22 [==============================] - 0s 2ms/step - loss: 0.1965 - accuracy: 0.9314\n",
      "Epoch 88/100\n",
      "22/22 [==============================] - 0s 2ms/step - loss: 0.2169 - accuracy: 0.9043\n",
      "Epoch 89/100\n",
      "22/22 [==============================] - 0s 2ms/step - loss: 0.2110 - accuracy: 0.9129\n",
      "Epoch 90/100\n",
      "22/22 [==============================] - 0s 2ms/step - loss: 0.1970 - accuracy: 0.9200\n",
      "Epoch 91/100\n",
      "22/22 [==============================] - 0s 1ms/step - loss: 0.1894 - accuracy: 0.9214\n",
      "Epoch 92/100\n",
      "22/22 [==============================] - 0s 2ms/step - loss: 0.1899 - accuracy: 0.9271\n",
      "Epoch 93/100\n",
      "22/22 [==============================] - 0s 2ms/step - loss: 0.1867 - accuracy: 0.9229\n",
      "Epoch 94/100\n",
      "22/22 [==============================] - 0s 1ms/step - loss: 0.1901 - accuracy: 0.9300\n",
      "Epoch 95/100\n",
      "22/22 [==============================] - 0s 2ms/step - loss: 0.1992 - accuracy: 0.9171\n",
      "Epoch 96/100\n",
      "22/22 [==============================] - 0s 2ms/step - loss: 0.2022 - accuracy: 0.9100\n",
      "Epoch 97/100\n",
      "22/22 [==============================] - 0s 2ms/step - loss: 0.1843 - accuracy: 0.9214\n",
      "Epoch 98/100\n",
      "22/22 [==============================] - 0s 1ms/step - loss: 0.1823 - accuracy: 0.9343\n",
      "Epoch 99/100\n",
      "22/22 [==============================] - 0s 2ms/step - loss: 0.1835 - accuracy: 0.9329\n",
      "Epoch 100/100\n",
      "22/22 [==============================] - 0s 2ms/step - loss: 0.1849 - accuracy: 0.9314\n",
      "22/22 [==============================] - 0s 1ms/step\n",
      "101/101 [==============================] - 0s 1ms/step\n",
      "[[2955  187]\n",
      " [  45   28]]\n",
      "TN= 2955\n",
      "FP= 187\n",
      "FN= 45\n",
      "TP= 28\n",
      "acc_test=  0.9278382581648522\n",
      "acc_train=  0.9042857142857142\n",
      "rec_test=  0.662022706068031\n",
      "rec_train=  0.8161904761904761\n",
      "f1_test=  0.5783358659864684\n",
      "f1_train=  0.8546723310372182\n",
      "precision_train=  0.9288202645252717\n",
      "precision_test=  0.5576162790697674\n"
     ]
    }
   ],
   "source": [
    "import keras\n",
    "from keras.models import Sequential\n",
    "from keras.layers import InputLayer\n",
    "from keras import layers\n",
    "from sklearn.datasets import make_blobs\n",
    "from keras.optimizers import Adam\n",
    "#finally, build a feed forward neural network using keras\n",
    "model = Sequential()\n",
    "model.add(InputLayer(input_shape=(X_train.shape[1],)))\n",
    "model.add(keras.layers.Dense(32,activation='relu'))\n",
    "model.add(keras.layers.Dense(64,activation='relu'))\n",
    "model.add(keras.layers.Dense(128,activation='relu'))\n",
    "model.add(keras.layers.Dense(2, activation='sigmoid'))\n",
    "#display the architecture\n",
    "#model.summary()\n",
    "#compile model using accuracy to measure model performance\n",
    "opt=Adam(learning_rate=0.001)\n",
    "model.compile(optimizer=opt, loss='categorical_crossentropy',metrics=['accuracy'])\n",
    "#train the model\n",
    "model.fit(X_train, keras.utils.to_categorical(y_train), epochs=100,verbose=True)\n",
    "y_pred_train = np.argmax(model.predict(X_train),axis=1)\n",
    "y_pred_test = np.argmax(model.predict(X_test),axis=1)\n",
    "\n",
    "\n",
    "acc_train = accuracy_score(y_train, y_pred_train)\n",
    "acc_test = accuracy_score(y_test, y_pred_test)\n",
    "pre_train = precision_score(y_train, y_pred_train, average='macro')\n",
    "pre_test = precision_score(y_test, y_pred_test, average='macro')\n",
    "rec_train = recall_score(y_train, y_pred_train, average='macro')\n",
    "rec_test = recall_score(y_test, y_pred_test, average='macro')\n",
    "f1_train = f1_score(y_train, y_pred_train, average='macro')\n",
    "f1_test = f1_score(y_test, y_pred_test, average='macro')\n",
    "print(confusion_matrix(y_test,y_pred_test))\n",
    "TN=(confusion_matrix(y_test,y_pred_test)[0,0])\n",
    "print(\"TN=\",TN)\n",
    "FP= (confusion_matrix(y_test,y_pred_test)[0,1])\n",
    "print('FP=',FP)\n",
    "FN= (confusion_matrix(y_test,y_pred_test)[1,0])\n",
    "print('FN=',FN)\n",
    "TP= (confusion_matrix(y_test,y_pred_test)[1,1])\n",
    "print('TP=',TP)\n",
    "print('acc_test= ',acc_test)\n",
    "print('acc_train= ',acc_train)\n",
    "print('rec_test= ',rec_test)\n",
    "print('rec_train= ',rec_train)\n",
    "print('f1_test= ',f1_test)\n",
    "print('f1_train= ',f1_train)\n",
    "print('precision_train= ',pre_train)\n",
    "print('precision_test= ',pre_test)"
   ]
  },
  {
   "cell_type": "code",
   "execution_count": 16,
   "id": "14053af8",
   "metadata": {},
   "outputs": [
    {
     "name": "stdout",
     "output_type": "stream",
     "text": [
      "INFO:tensorflow:Assets written to: C:/Users/Chrispdl/Desktop/ml and natural language processing/εργασία 1/1η άσκηση, shallow learning, classification/nnscprit\\assets\n"
     ]
    }
   ],
   "source": [
    "model.save('C:/Users/Chrispdl/Desktop/ml and natural language processing/εργασία 1/1η άσκηση, shallow learning, classification/nnscprit')"
   ]
  }
 ],
 "metadata": {
  "kernelspec": {
   "display_name": "Python 3 (ipykernel)",
   "language": "python",
   "name": "python3"
  },
  "language_info": {
   "codemirror_mode": {
    "name": "ipython",
    "version": 3
   },
   "file_extension": ".py",
   "mimetype": "text/x-python",
   "name": "python",
   "nbconvert_exporter": "python",
   "pygments_lexer": "ipython3",
   "version": "3.9.12"
  }
 },
 "nbformat": 4,
 "nbformat_minor": 5
}
